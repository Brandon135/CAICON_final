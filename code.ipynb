{
 "cells": [
  {
   "cell_type": "markdown",
   "metadata": {},
   "source": [
    "# 작전도로 상태 점검을 위한 노면 이상 탐지 모델 개발"
   ]
  },
  {
   "cell_type": "markdown",
   "metadata": {},
   "source": [
    "## 환경 설정\n",
    "본 베이스라인 코드를 활용하기 위한 베이스라인 환경을 설정합니다."
   ]
  },
  {
   "cell_type": "code",
   "execution_count": 1,
   "metadata": {},
   "outputs": [
    {
     "name": "stdout",
     "output_type": "stream",
     "text": [
      "Defaulting to user installation because normal site-packages is not writeable\n",
      "Requirement already satisfied: absl-py==2.1.0 in ./.local/lib/python3.10/site-packages (from -r requirements.txt (line 1)) (2.1.0)\n",
      "Requirement already satisfied: asttokens==2.4.1 in ./.local/lib/python3.10/site-packages (from -r requirements.txt (line 2)) (2.4.1)\n",
      "Requirement already satisfied: astunparse==1.6.3 in ./.local/lib/python3.10/site-packages (from -r requirements.txt (line 3)) (1.6.3)\n",
      "Requirement already satisfied: cachetools==5.5.0 in ./.local/lib/python3.10/site-packages (from -r requirements.txt (line 4)) (5.5.0)\n",
      "Requirement already satisfied: certifi==2024.7.4 in ./.local/lib/python3.10/site-packages (from -r requirements.txt (line 5)) (2024.7.4)\n",
      "Requirement already satisfied: charset-normalizer==3.3.2 in ./.local/lib/python3.10/site-packages (from -r requirements.txt (line 6)) (3.3.2)\n",
      "Requirement already satisfied: comm==0.2.2 in ./.local/lib/python3.10/site-packages (from -r requirements.txt (line 7)) (0.2.2)\n",
      "Requirement already satisfied: contourpy==1.2.1 in ./.local/lib/python3.10/site-packages (from -r requirements.txt (line 8)) (1.2.1)\n",
      "Requirement already satisfied: cycler==0.12.1 in ./.local/lib/python3.10/site-packages (from -r requirements.txt (line 9)) (0.12.1)\n",
      "Requirement already satisfied: debugpy==1.8.5 in ./.local/lib/python3.10/site-packages (from -r requirements.txt (line 10)) (1.8.5)\n",
      "Requirement already satisfied: decorator==5.1.1 in ./.local/lib/python3.10/site-packages (from -r requirements.txt (line 11)) (5.1.1)\n",
      "Requirement already satisfied: exceptiongroup==1.2.2 in ./.local/lib/python3.10/site-packages (from -r requirements.txt (line 12)) (1.2.2)\n",
      "Requirement already satisfied: executing==2.0.1 in ./.local/lib/python3.10/site-packages (from -r requirements.txt (line 13)) (2.0.1)\n",
      "Requirement already satisfied: filelock==3.15.4 in ./.local/lib/python3.10/site-packages (from -r requirements.txt (line 14)) (3.15.4)\n",
      "Requirement already satisfied: flatbuffers==24.3.25 in ./.local/lib/python3.10/site-packages (from -r requirements.txt (line 15)) (24.3.25)\n",
      "Requirement already satisfied: fonttools==4.53.1 in ./.local/lib/python3.10/site-packages (from -r requirements.txt (line 16)) (4.53.1)\n",
      "Requirement already satisfied: fsspec==2024.6.1 in ./.local/lib/python3.10/site-packages (from -r requirements.txt (line 17)) (2024.6.1)\n",
      "Requirement already satisfied: gast==0.4.0 in ./.local/lib/python3.10/site-packages (from -r requirements.txt (line 18)) (0.4.0)\n",
      "Requirement already satisfied: gitdb==4.0.11 in ./.local/lib/python3.10/site-packages (from -r requirements.txt (line 19)) (4.0.11)\n",
      "Requirement already satisfied: GitPython==3.1.43 in ./.local/lib/python3.10/site-packages (from -r requirements.txt (line 20)) (3.1.43)\n",
      "Requirement already satisfied: google-auth==2.34.0 in ./.local/lib/python3.10/site-packages (from -r requirements.txt (line 21)) (2.34.0)\n",
      "Requirement already satisfied: google-auth-oauthlib==1.0.0 in ./.local/lib/python3.10/site-packages (from -r requirements.txt (line 22)) (1.0.0)\n",
      "Requirement already satisfied: google-pasta==0.2.0 in ./.local/lib/python3.10/site-packages (from -r requirements.txt (line 23)) (0.2.0)\n",
      "Requirement already satisfied: grpcio==1.65.5 in ./.local/lib/python3.10/site-packages (from -r requirements.txt (line 24)) (1.65.5)\n",
      "Requirement already satisfied: h5py==3.11.0 in ./.local/lib/python3.10/site-packages (from -r requirements.txt (line 25)) (3.11.0)\n",
      "Requirement already satisfied: huggingface-hub==0.24.6 in ./.local/lib/python3.10/site-packages (from -r requirements.txt (line 26)) (0.24.6)\n",
      "Requirement already satisfied: idna==3.7 in ./.local/lib/python3.10/site-packages (from -r requirements.txt (line 27)) (3.7)\n",
      "Requirement already satisfied: ipykernel==6.29.5 in ./.local/lib/python3.10/site-packages (from -r requirements.txt (line 28)) (6.29.5)\n",
      "Requirement already satisfied: ipython==8.26.0 in ./.local/lib/python3.10/site-packages (from -r requirements.txt (line 29)) (8.26.0)\n",
      "Requirement already satisfied: jax==0.4.30 in ./.local/lib/python3.10/site-packages (from -r requirements.txt (line 30)) (0.4.30)\n",
      "Requirement already satisfied: jaxlib==0.4.30 in ./.local/lib/python3.10/site-packages (from -r requirements.txt (line 31)) (0.4.30)\n",
      "Requirement already satisfied: jedi==0.19.1 in ./.local/lib/python3.10/site-packages (from -r requirements.txt (line 32)) (0.19.1)\n",
      "Requirement already satisfied: Jinja2==3.1.4 in ./.local/lib/python3.10/site-packages (from -r requirements.txt (line 33)) (3.1.4)\n",
      "Requirement already satisfied: joblib==1.4.2 in ./.local/lib/python3.10/site-packages (from -r requirements.txt (line 34)) (1.4.2)\n",
      "Requirement already satisfied: jupyter_client==8.6.2 in ./.local/lib/python3.10/site-packages (from -r requirements.txt (line 35)) (8.6.2)\n",
      "Requirement already satisfied: jupyter_core==5.7.2 in ./.local/lib/python3.10/site-packages (from -r requirements.txt (line 36)) (5.7.2)\n",
      "Requirement already satisfied: keras==2.12.0 in ./.local/lib/python3.10/site-packages (from -r requirements.txt (line 37)) (2.12.0)\n",
      "Requirement already satisfied: kiwisolver==1.4.5 in ./.local/lib/python3.10/site-packages (from -r requirements.txt (line 38)) (1.4.5)\n",
      "Requirement already satisfied: libclang==18.1.1 in ./.local/lib/python3.10/site-packages (from -r requirements.txt (line 39)) (18.1.1)\n",
      "Requirement already satisfied: Markdown==3.7 in ./.local/lib/python3.10/site-packages (from -r requirements.txt (line 40)) (3.7)\n",
      "Requirement already satisfied: MarkupSafe==2.1.5 in ./.local/lib/python3.10/site-packages (from -r requirements.txt (line 41)) (2.1.5)\n",
      "Requirement already satisfied: matplotlib==3.8.2 in ./.local/lib/python3.10/site-packages (from -r requirements.txt (line 42)) (3.8.2)\n",
      "Requirement already satisfied: matplotlib-inline==0.1.7 in ./.local/lib/python3.10/site-packages (from -r requirements.txt (line 43)) (0.1.7)\n",
      "Requirement already satisfied: ml-dtypes==0.4.0 in ./.local/lib/python3.10/site-packages (from -r requirements.txt (line 44)) (0.4.0)\n",
      "Requirement already satisfied: mpmath==1.3.0 in ./.local/lib/python3.10/site-packages (from -r requirements.txt (line 45)) (1.3.0)\n",
      "Requirement already satisfied: nest-asyncio==1.6.0 in ./.local/lib/python3.10/site-packages (from -r requirements.txt (line 46)) (1.6.0)\n",
      "Requirement already satisfied: networkx==3.3 in ./.local/lib/python3.10/site-packages (from -r requirements.txt (line 47)) (3.3)\n",
      "Requirement already satisfied: numpy==1.23.5 in ./.local/lib/python3.10/site-packages (from -r requirements.txt (line 48)) (1.23.5)\n",
      "Requirement already satisfied: nvidia-cublas-cu12==12.1.3.1 in ./.local/lib/python3.10/site-packages (from -r requirements.txt (line 49)) (12.1.3.1)\n",
      "Requirement already satisfied: nvidia-cuda-cupti-cu12==12.1.105 in ./.local/lib/python3.10/site-packages (from -r requirements.txt (line 50)) (12.1.105)\n",
      "Requirement already satisfied: nvidia-cuda-nvrtc-cu12==12.1.105 in ./.local/lib/python3.10/site-packages (from -r requirements.txt (line 51)) (12.1.105)\n",
      "Requirement already satisfied: nvidia-cuda-runtime-cu12==12.1.105 in ./.local/lib/python3.10/site-packages (from -r requirements.txt (line 52)) (12.1.105)\n",
      "Requirement already satisfied: nvidia-cudnn-cu12==9.1.0.70 in ./.local/lib/python3.10/site-packages (from -r requirements.txt (line 53)) (9.1.0.70)\n",
      "Requirement already satisfied: nvidia-cufft-cu12==11.0.2.54 in ./.local/lib/python3.10/site-packages (from -r requirements.txt (line 54)) (11.0.2.54)\n",
      "Requirement already satisfied: nvidia-curand-cu12==10.3.2.106 in ./.local/lib/python3.10/site-packages (from -r requirements.txt (line 55)) (10.3.2.106)\n",
      "Requirement already satisfied: nvidia-cusolver-cu12==11.4.5.107 in ./.local/lib/python3.10/site-packages (from -r requirements.txt (line 56)) (11.4.5.107)\n",
      "Requirement already satisfied: nvidia-cusparse-cu12==12.1.0.106 in ./.local/lib/python3.10/site-packages (from -r requirements.txt (line 57)) (12.1.0.106)\n",
      "Requirement already satisfied: nvidia-nccl-cu12==2.20.5 in ./.local/lib/python3.10/site-packages (from -r requirements.txt (line 58)) (2.20.5)\n",
      "Requirement already satisfied: nvidia-nvjitlink-cu12==12.6.68 in ./.local/lib/python3.10/site-packages (from -r requirements.txt (line 59)) (12.6.68)\n",
      "Requirement already satisfied: nvidia-nvtx-cu12==12.1.105 in ./.local/lib/python3.10/site-packages (from -r requirements.txt (line 60)) (12.1.105)\n",
      "Requirement already satisfied: oauthlib==3.2.2 in ./.local/lib/python3.10/site-packages (from -r requirements.txt (line 61)) (3.2.2)\n",
      "Requirement already satisfied: opencv-python==4.10.0.84 in ./.local/lib/python3.10/site-packages (from -r requirements.txt (line 62)) (4.10.0.84)\n",
      "Requirement already satisfied: opt-einsum==3.3.0 in ./.local/lib/python3.10/site-packages (from -r requirements.txt (line 63)) (3.3.0)\n",
      "Requirement already satisfied: packaging==24.1 in ./.local/lib/python3.10/site-packages (from -r requirements.txt (line 64)) (24.1)\n",
      "Requirement already satisfied: pandas==2.1.4 in ./.local/lib/python3.10/site-packages (from -r requirements.txt (line 65)) (2.1.4)\n",
      "Requirement already satisfied: parso==0.8.4 in ./.local/lib/python3.10/site-packages (from -r requirements.txt (line 66)) (0.8.4)\n",
      "Requirement already satisfied: pexpect==4.9.0 in ./.local/lib/python3.10/site-packages (from -r requirements.txt (line 67)) (4.9.0)\n",
      "Requirement already satisfied: pillow==10.4.0 in ./.local/lib/python3.10/site-packages (from -r requirements.txt (line 68)) (10.4.0)\n",
      "Requirement already satisfied: platformdirs==4.2.2 in ./.local/lib/python3.10/site-packages (from -r requirements.txt (line 69)) (4.2.2)\n",
      "Requirement already satisfied: prompt_toolkit==3.0.47 in ./.local/lib/python3.10/site-packages (from -r requirements.txt (line 70)) (3.0.47)\n",
      "Requirement already satisfied: protobuf==4.25.4 in ./.local/lib/python3.10/site-packages (from -r requirements.txt (line 71)) (4.25.4)\n",
      "Requirement already satisfied: psutil==6.0.0 in ./.local/lib/python3.10/site-packages (from -r requirements.txt (line 72)) (6.0.0)\n",
      "Requirement already satisfied: ptyprocess==0.7.0 in ./.local/lib/python3.10/site-packages (from -r requirements.txt (line 73)) (0.7.0)\n",
      "Requirement already satisfied: pure_eval==0.2.3 in ./.local/lib/python3.10/site-packages (from -r requirements.txt (line 74)) (0.2.3)\n",
      "Requirement already satisfied: py-cpuinfo==9.0.0 in ./.local/lib/python3.10/site-packages (from -r requirements.txt (line 75)) (9.0.0)\n",
      "Requirement already satisfied: pyasn1==0.6.0 in ./.local/lib/python3.10/site-packages (from -r requirements.txt (line 76)) (0.6.0)\n",
      "Requirement already satisfied: pyasn1_modules==0.4.0 in ./.local/lib/python3.10/site-packages (from -r requirements.txt (line 77)) (0.4.0)\n",
      "Requirement already satisfied: Pygments==2.18.0 in ./.local/lib/python3.10/site-packages (from -r requirements.txt (line 78)) (2.18.0)\n",
      "Requirement already satisfied: pyparsing==3.1.2 in ./.local/lib/python3.10/site-packages (from -r requirements.txt (line 79)) (3.1.2)\n",
      "Requirement already satisfied: python-dateutil==2.9.0.post0 in ./.local/lib/python3.10/site-packages (from -r requirements.txt (line 80)) (2.9.0.post0)\n",
      "Requirement already satisfied: pytz==2024.1 in ./.local/lib/python3.10/site-packages (from -r requirements.txt (line 81)) (2024.1)\n",
      "Requirement already satisfied: PyYAML==6.0.2 in ./.local/lib/python3.10/site-packages (from -r requirements.txt (line 82)) (6.0.2)\n",
      "Requirement already satisfied: pyzmq==26.1.1 in ./.local/lib/python3.10/site-packages (from -r requirements.txt (line 83)) (26.1.1)\n",
      "Requirement already satisfied: regex==2024.7.24 in ./.local/lib/python3.10/site-packages (from -r requirements.txt (line 84)) (2024.7.24)\n",
      "Requirement already satisfied: requests==2.32.3 in ./.local/lib/python3.10/site-packages (from -r requirements.txt (line 85)) (2.32.3)\n",
      "Requirement already satisfied: requests-oauthlib==2.0.0 in ./.local/lib/python3.10/site-packages (from -r requirements.txt (line 86)) (2.0.0)\n",
      "Requirement already satisfied: rsa==4.9 in ./.local/lib/python3.10/site-packages (from -r requirements.txt (line 87)) (4.9)\n",
      "Requirement already satisfied: safetensors==0.4.4 in ./.local/lib/python3.10/site-packages (from -r requirements.txt (line 88)) (0.4.4)\n",
      "Requirement already satisfied: scikit-learn==1.2.2 in ./.local/lib/python3.10/site-packages (from -r requirements.txt (line 89)) (1.2.2)\n",
      "Requirement already satisfied: scipy==1.14.1 in ./.local/lib/python3.10/site-packages (from -r requirements.txt (line 90)) (1.14.1)\n",
      "Requirement already satisfied: seaborn==0.13.2 in ./.local/lib/python3.10/site-packages (from -r requirements.txt (line 91)) (0.13.2)\n",
      "Requirement already satisfied: six==1.16.0 in ./.local/lib/python3.10/site-packages (from -r requirements.txt (line 92)) (1.16.0)\n",
      "Requirement already satisfied: smmap==5.0.1 in ./.local/lib/python3.10/site-packages (from -r requirements.txt (line 93)) (5.0.1)\n",
      "Requirement already satisfied: stack-data==0.6.3 in ./.local/lib/python3.10/site-packages (from -r requirements.txt (line 94)) (0.6.3)\n",
      "Requirement already satisfied: sympy==1.13.2 in ./.local/lib/python3.10/site-packages (from -r requirements.txt (line 95)) (1.13.2)\n",
      "Requirement already satisfied: tensorboard==2.12.3 in ./.local/lib/python3.10/site-packages (from -r requirements.txt (line 96)) (2.12.3)\n",
      "Requirement already satisfied: tensorboard-data-server==0.7.2 in ./.local/lib/python3.10/site-packages (from -r requirements.txt (line 97)) (0.7.2)\n",
      "Requirement already satisfied: tensorflow==2.12.0 in ./.local/lib/python3.10/site-packages (from -r requirements.txt (line 98)) (2.12.0)\n",
      "Requirement already satisfied: tensorflow-estimator==2.12.0 in ./.local/lib/python3.10/site-packages (from -r requirements.txt (line 99)) (2.12.0)\n",
      "Requirement already satisfied: tensorflow-io-gcs-filesystem==0.37.1 in ./.local/lib/python3.10/site-packages (from -r requirements.txt (line 100)) (0.37.1)\n",
      "Requirement already satisfied: termcolor==2.4.0 in ./.local/lib/python3.10/site-packages (from -r requirements.txt (line 101)) (2.4.0)\n",
      "Requirement already satisfied: thop==0.1.1.post2209072238 in ./.local/lib/python3.10/site-packages (from -r requirements.txt (line 102)) (0.1.1.post2209072238)\n",
      "Requirement already satisfied: threadpoolctl==3.5.0 in ./.local/lib/python3.10/site-packages (from -r requirements.txt (line 103)) (3.5.0)\n",
      "Requirement already satisfied: tokenizers==0.15.2 in ./.local/lib/python3.10/site-packages (from -r requirements.txt (line 104)) (0.15.2)\n",
      "Requirement already satisfied: torch==2.4.1 in ./.local/lib/python3.10/site-packages (from -r requirements.txt (line 105)) (2.4.1)\n",
      "Requirement already satisfied: torchvision==0.19.1 in ./.local/lib/python3.10/site-packages (from -r requirements.txt (line 106)) (0.19.1)\n",
      "Requirement already satisfied: tornado==6.4.1 in ./.local/lib/python3.10/site-packages (from -r requirements.txt (line 107)) (6.4.1)\n",
      "Requirement already satisfied: tqdm==4.66.5 in ./.local/lib/python3.10/site-packages (from -r requirements.txt (line 108)) (4.66.5)\n",
      "Requirement already satisfied: traitlets==5.14.3 in ./.local/lib/python3.10/site-packages (from -r requirements.txt (line 109)) (5.14.3)\n",
      "Requirement already satisfied: transformers==4.36.2 in ./.local/lib/python3.10/site-packages (from -r requirements.txt (line 110)) (4.36.2)\n",
      "Requirement already satisfied: triton==3.0.0 in ./.local/lib/python3.10/site-packages (from -r requirements.txt (line 111)) (3.0.0)\n",
      "Requirement already satisfied: typing_extensions==4.12.2 in ./.local/lib/python3.10/site-packages (from -r requirements.txt (line 112)) (4.12.2)\n",
      "Requirement already satisfied: tzdata==2024.1 in ./.local/lib/python3.10/site-packages (from -r requirements.txt (line 113)) (2024.1)\n",
      "Requirement already satisfied: ultralytics==8.2.91 in ./.local/lib/python3.10/site-packages (from -r requirements.txt (line 114)) (8.2.91)\n",
      "Requirement already satisfied: ultralytics-thop==2.0.6 in ./.local/lib/python3.10/site-packages (from -r requirements.txt (line 115)) (2.0.6)\n",
      "Requirement already satisfied: urllib3==2.2.2 in ./.local/lib/python3.10/site-packages (from -r requirements.txt (line 116)) (2.2.2)\n",
      "Requirement already satisfied: wcwidth==0.2.13 in ./.local/lib/python3.10/site-packages (from -r requirements.txt (line 117)) (0.2.13)\n",
      "Requirement already satisfied: Werkzeug==3.0.4 in ./.local/lib/python3.10/site-packages (from -r requirements.txt (line 118)) (3.0.4)\n",
      "Requirement already satisfied: wrapt==1.14.1 in ./.local/lib/python3.10/site-packages (from -r requirements.txt (line 119)) (1.14.1)\n"
     ]
    },
    {
     "name": "stdout",
     "output_type": "stream",
     "text": [
      "Requirement already satisfied: wheel<1.0,>=0.23.0 in /usr/local/lib/python3.10/site-packages (from astunparse==1.6.3->-r requirements.txt (line 3)) (0.44.0)\n",
      "Requirement already satisfied: setuptools>=41.0.0 in /usr/local/lib/python3.10/site-packages (from tensorboard==2.12.3->-r requirements.txt (line 96)) (65.5.1)\n",
      "\n",
      "\u001b[1m[\u001b[0m\u001b[34;49mnotice\u001b[0m\u001b[1;39;49m]\u001b[0m\u001b[39;49m A new release of pip is available: \u001b[0m\u001b[31;49m23.0.1\u001b[0m\u001b[39;49m -> \u001b[0m\u001b[32;49m24.2\u001b[0m\n",
      "\u001b[1m[\u001b[0m\u001b[34;49mnotice\u001b[0m\u001b[1;39;49m]\u001b[0m\u001b[39;49m To update, run: \u001b[0m\u001b[32;49mpip install --upgrade pip\u001b[0m\n"
     ]
    }
   ],
   "source": [
    "!pip install -r requirements.txt"
   ]
  },
  {
   "cell_type": "markdown",
   "metadata": {},
   "source": [
    "## 데이터 불러오기"
   ]
  },
  {
   "cell_type": "code",
   "execution_count": 2,
   "metadata": {},
   "outputs": [],
   "source": [
    "import json\n",
    "import os\n",
    "import shutil\n",
    "\n",
    "import matplotlib.patches as patches\n",
    "import matplotlib.pyplot as plt\n",
    "import pandas as pd\n",
    "import yaml\n",
    "from PIL import Image\n",
    "from tqdm import tqdm\n",
    "\n",
    "DATASET_ROOT = \"./\"  # 데이터 셋의 루트 디렉토리\n",
    "LABELS_DIR = \"labels\"\n",
    "IMAGE_DIR = \"images\"\n",
    "TRAIN_DIR = \"train\"\n",
    "TEST_DIR = \"test\"\n",
    "\n",
    "# DATASET_ROOT/train/labels: 학습 데이터의 라벨 파일이 있는 디렉토리\n",
    "# DATASET_ROOT/train/images: 학습 데이터의 이미지 파일이 있는 디렉토리\n",
    "# DATASET_ROOT/test/labels: 테스트 데이터의 라벨 파일이 있는 디렉토리\n",
    "# DATASET_ROOT/test/images: 테스트 데이터의 이미지 파일이 있는 디렉토리"
   ]
  },
  {
   "cell_type": "markdown",
   "metadata": {},
   "source": [
    "### 학습 데이터 불러오기"
   ]
  },
  {
   "cell_type": "code",
   "execution_count": 3,
   "metadata": {},
   "outputs": [
    {
     "ename": "FileNotFoundError",
     "evalue": "[Errno 2] No such file or directory: './train/images'",
     "output_type": "error",
     "traceback": [
      "\u001b[0;31m---------------------------------------------------------------------------\u001b[0m",
      "\u001b[0;31mFileNotFoundError\u001b[0m                         Traceback (most recent call last)",
      "Cell \u001b[0;32mIn[3], line 3\u001b[0m\n\u001b[1;32m      1\u001b[0m train_data \u001b[38;5;241m=\u001b[39m []\n\u001b[0;32m----> 3\u001b[0m \u001b[38;5;28;01mfor\u001b[39;00m image \u001b[38;5;129;01min\u001b[39;00m tqdm(\u001b[43mos\u001b[49m\u001b[38;5;241;43m.\u001b[39;49m\u001b[43mlistdir\u001b[49m\u001b[43m(\u001b[49m\u001b[43mos\u001b[49m\u001b[38;5;241;43m.\u001b[39;49m\u001b[43mpath\u001b[49m\u001b[38;5;241;43m.\u001b[39;49m\u001b[43mjoin\u001b[49m\u001b[43m(\u001b[49m\u001b[43mDATASET_ROOT\u001b[49m\u001b[43m,\u001b[49m\u001b[43m \u001b[49m\u001b[43mTRAIN_DIR\u001b[49m\u001b[43m,\u001b[49m\u001b[43m \u001b[49m\u001b[43mIMAGE_DIR\u001b[49m\u001b[43m)\u001b[49m\u001b[43m)\u001b[49m):\n\u001b[1;32m      4\u001b[0m     image_id \u001b[38;5;241m=\u001b[39m image\u001b[38;5;241m.\u001b[39msplit(\u001b[38;5;124m\"\u001b[39m\u001b[38;5;124m.\u001b[39m\u001b[38;5;124m\"\u001b[39m)[\u001b[38;5;241m0\u001b[39m]\n\u001b[1;32m      5\u001b[0m     image_path \u001b[38;5;241m=\u001b[39m os\u001b[38;5;241m.\u001b[39mpath\u001b[38;5;241m.\u001b[39mjoin(DATASET_ROOT, TRAIN_DIR, IMAGE_DIR, image)\n",
      "\u001b[0;31mFileNotFoundError\u001b[0m: [Errno 2] No such file or directory: './train/images'"
     ]
    }
   ],
   "source": [
    "train_data = []\n",
    "\n",
    "for image in tqdm(os.listdir(os.path.join(DATASET_ROOT, TRAIN_DIR, IMAGE_DIR))):\n",
    "    image_id = image.split(\".\")[0]\n",
    "    image_path = os.path.join(DATASET_ROOT, TRAIN_DIR, IMAGE_DIR, image)\n",
    "    label_path = os.path.join(DATASET_ROOT, TRAIN_DIR, LABELS_DIR, image_id + \".txt\")\n",
    "    labels = []\n",
    "    if os.path.exists(label_path):\n",
    "        with open(label_path, \"r\") as f:\n",
    "            for line in f.readlines():\n",
    "                class_id = int(line.split()[0])\n",
    "                x = float(line.split()[1])\n",
    "                y = float(line.split()[2])\n",
    "                w = float(line.split()[3])\n",
    "                h = float(line.split()[4])\n",
    "                labels.append({\"class_id\": class_id, \"x\": x, \"y\": y, \"w\": w, \"h\": h})\n",
    "\n",
    "    train_data.append({\"id\": image_id, \"image_path\": image_path, \"label_path\": label_path, \"labels\": labels})\n",
    "\n",
    "df_train = pd.DataFrame(train_data)\n",
    "df_train.head()"
   ]
  },
  {
   "cell_type": "markdown",
   "metadata": {},
   "source": [
    "### 테스트 데이터 불러오기"
   ]
  },
  {
   "cell_type": "code",
   "execution_count": null,
   "metadata": {},
   "outputs": [],
   "source": [
    "test_data = []\n",
    "\n",
    "for image in tqdm(os.listdir(os.path.join(DATASET_ROOT, TEST_DIR, IMAGE_DIR))):\n",
    "    image_id = image.split(\".\")[0]\n",
    "    image_path = os.path.join(DATASET_ROOT, TEST_DIR, IMAGE_DIR, image)\n",
    "\n",
    "    # 테스트 데이터는 라벨 파일이 없습니다.\n",
    "    test_data.append({\"id\": image_id, \"image_path\": image_path, \"label_path\": \"\", \"labels\": []})\n",
    "\n",
    "df_test = pd.DataFrame(test_data)\n",
    "df_test.head()"
   ]
  },
  {
   "cell_type": "markdown",
   "metadata": {},
   "source": [
    "## 샘플 데이터 확인하기"
   ]
  },
  {
   "cell_type": "markdown",
   "metadata": {},
   "source": [
    "### 샘플 이미지"
   ]
  },
  {
   "cell_type": "code",
   "execution_count": null,
   "metadata": {},
   "outputs": [],
   "source": [
    "sample = df_train.iloc[1]\n",
    "\n",
    "# 이미지 읽기\n",
    "image_sample = Image.open(sample[\"image_path\"])\n",
    "image_sample"
   ]
  },
  {
   "cell_type": "markdown",
   "metadata": {},
   "source": [
    "### 샘플 이미지의 라벨"
   ]
  },
  {
   "cell_type": "markdown",
   "metadata": {},
   "source": [
    "라벨은 정규화된 XYWH 형식으로 작성되어 있습니다.\n",
    "\n",
    "정규화된 XYWH 형식\n",
    "`<object-class> <x> <y> <width> <height>`\n",
    "- object-class: 물체의 클래스 (0부터 시작하는 정수)\n",
    "- x, y: 바운딩 박스의 중심의 상대 좌표(0~1 사이 값)\n",
    "- width, height: 바운딩 박스의 너비와 높이(0~1 사이 값)"
   ]
  },
  {
   "cell_type": "code",
   "execution_count": null,
   "metadata": {},
   "outputs": [],
   "source": [
    "sample = df_train.iloc[1]\n",
    "fig, ax = plt.subplots()\n",
    "\n",
    "img = Image.open(sample[\"image_path\"])\n",
    "\n",
    "# 이미지 표시\n",
    "ax.imshow(img)\n",
    "\n",
    "# 박스 그리기\n",
    "for label in sample[\"labels\"]:\n",
    "    # 좌표 변환\n",
    "    c_x = label[\"x\"] * img.width\n",
    "    c_y = label[\"y\"] * img.height\n",
    "    w = label[\"w\"] * img.width\n",
    "    h = label[\"h\"] * img.height\n",
    "\n",
    "    left_top_x = c_x - w / 2\n",
    "    left_top_y = c_y - h / 2\n",
    "\n",
    "    rect = patches.Rectangle((left_top_x, left_top_y), w, h, linewidth=2, edgecolor=\"r\", facecolor=\"none\")\n",
    "    ax.add_patch(rect)\n",
    "\n",
    "fig.show()"
   ]
  },
  {
   "cell_type": "markdown",
   "metadata": {},
   "source": [
    "## 데이터 전처리"
   ]
  },
  {
   "cell_type": "markdown",
   "metadata": {},
   "source": [
    "### 데이터 분리"
   ]
  },
  {
   "cell_type": "code",
   "execution_count": null,
   "metadata": {},
   "outputs": [],
   "source": [
    "df_train_set = df_train.sample(frac=0.8, random_state=0)\n",
    "df_valid_set = df_train.drop(df_train_set.index)\n",
    "\n",
    "df_train_set.to_csv(\"train_set.csv\", index=False)\n",
    "df_valid_set.to_csv(\"valid_set.csv\", index=False)\n",
    "\n",
    "new_train_path = os.path.abspath(\"train\")\n",
    "new_valid_path = os.path.abspath(\"valid\")\n",
    "\n",
    "os.makedirs(new_train_path, exist_ok=True)\n",
    "os.makedirs(os.path.join(new_train_path, IMAGE_DIR), exist_ok=True)\n",
    "os.makedirs(os.path.join(new_train_path, LABELS_DIR), exist_ok=True)\n",
    "\n",
    "os.makedirs(new_valid_path, exist_ok=True)\n",
    "os.makedirs(os.path.join(new_valid_path, IMAGE_DIR), exist_ok=True)\n",
    "os.makedirs(os.path.join(new_valid_path, LABELS_DIR), exist_ok=True)"
   ]
  },
  {
   "cell_type": "markdown",
   "metadata": {},
   "source": [
    "### 데이터 전처리 및 복사"
   ]
  },
  {
   "cell_type": "markdown",
   "metadata": {},
   "source": [
    "이미지의 크기를 변경하고 각각 폴더에 복사합니다."
   ]
  },
  {
   "cell_type": "code",
   "execution_count": null,
   "metadata": {},
   "outputs": [],
   "source": [
    "# 원본 이미지 크기: 1280x720\n",
    "# 이미지 크기를 480x480으로 변경\n",
    "IMAGE_SIZE = 480\n",
    "\n",
    "for i, row in tqdm(df_train_set.iterrows(), total=len(df_train_set)):\n",
    "    image = Image.open(row[\"image_path\"])\n",
    "    image.resize((IMAGE_SIZE, IMAGE_SIZE)).save(f\"{new_train_path}/{IMAGE_DIR}/{row['id']}.jpg\")\n",
    "    shutil.copy(row[\"label_path\"], f\"{new_train_path}/{LABELS_DIR}/{row['id']}.txt\")\n",
    "\n",
    "for i, row in tqdm(df_valid_set.iterrows(), total=len(df_valid_set)):\n",
    "    image = Image.open(row[\"image_path\"])\n",
    "    image.resize((IMAGE_SIZE, IMAGE_SIZE)).save(f\"{new_valid_path}/{IMAGE_DIR}/{row['id']}.jpg\")\n",
    "    shutil.copy(row[\"label_path\"], f\"{new_valid_path}/{LABELS_DIR}/{row['id']}.txt\")"
   ]
  },
  {
   "cell_type": "markdown",
   "metadata": {},
   "source": [
    "## 모델 학습"
   ]
  },
  {
   "cell_type": "markdown",
   "metadata": {},
   "source": [
    "### 모델 준비"
   ]
  },
  {
   "cell_type": "markdown",
   "metadata": {},
   "source": [
    "외부 모델을 사용하는 경우 아래처럼 모델을 불러올 수 있습니다.\n",
    "\n",
    "- 다운로드 하는 코드를 명시\n",
    "- 필요한 종속성을 설치하는 코드를 명시"
   ]
  },
  {
   "cell_type": "code",
   "execution_count": null,
   "metadata": {},
   "outputs": [],
   "source": [
    "# YOLOv5 클론 및 설치 \n",
    "!git clone https://github.com/ultralytics/yolov5.git \n",
    "!pip install --quiet -r yolov5/requirements.txt"
   ]
  },
  {
   "cell_type": "markdown",
   "metadata": {},
   "source": [
    "### 모델 학습"
   ]
  },
  {
   "cell_type": "code",
   "execution_count": null,
   "metadata": {},
   "outputs": [],
   "source": [
    "dataset = {\n",
    "    \"path\": os.path.abspath(\".\"),\n",
    "    \"train\": \"train\",\n",
    "    \"val\": \"valid\",\n",
    "    \"nc\": 2,\n",
    "    # crack = 도로 균열, pothole = 포트홀\n",
    "    \"names\": [\"crack\", \"pothole\"],\n",
    "}\n",
    "\n",
    "YAML_PATH = os.path.abspath(\"pothole.yaml\")\n",
    "RESULT_PATH = os.path.abspath(\"result\")\n",
    "os.makedirs(RESULT_PATH, exist_ok=True)\n",
    "with open(YAML_PATH, \"w\") as f:\n",
    "    yaml.dump(dataset, f)"
   ]
  },
  {
   "cell_type": "code",
   "execution_count": null,
   "metadata": {},
   "outputs": [],
   "source": [
    "!PYTHONWARNINGS=\"ignore::FutureWarning\" python yolov5/train.py --img 480 --batch 32 --epoch 3 --data {YAML_PATH} --cfg yolov5s.yaml --exist-ok --name pothole --project {RESULT_PATH}"
   ]
  },
  {
   "cell_type": "markdown",
   "metadata": {},
   "source": [
    "## 모델 평가"
   ]
  },
  {
   "cell_type": "markdown",
   "metadata": {},
   "source": [
    "### 검증 데이터 예측"
   ]
  },
  {
   "cell_type": "code",
   "execution_count": null,
   "metadata": {},
   "outputs": [],
   "source": [
    "!python yolov5/detect.py --source {os.path.join(new_valid_path, IMAGE_DIR)} --weights {RESULT_PATH}/pothole/weights/best.pt --conf 0.1 --save-txt --save-conf --exist-ok --project {RESULT_PATH}/valid"
   ]
  },
  {
   "cell_type": "markdown",
   "metadata": {},
   "source": [
    "### 예측 결과 시각화"
   ]
  },
  {
   "cell_type": "code",
   "execution_count": null,
   "metadata": {},
   "outputs": [],
   "source": [
    "sample = df_valid_set.iloc[3]\n",
    "fig, ax = plt.subplots()\n",
    "\n",
    "img = Image.open(sample[\"image_path\"])\n",
    "ax.imshow(img)\n",
    "\n",
    "# 예측 결과 시각화\n",
    "predict = os.path.join(RESULT_PATH, \"valid\", \"exp\", \"labels\", sample[\"id\"] + \".txt\")\n",
    "if os.path.exists(predict):\n",
    "    with open(predict, \"r\") as f:\n",
    "        for line in f.readlines():\n",
    "            class_id, c_x, c_y, w, h, conf = map(float, line.split())\n",
    "            c_x *= img.width\n",
    "            c_y *= img.height\n",
    "            w *= img.width\n",
    "            h *= img.height\n",
    "\n",
    "            left_top_x = c_x - w / 2\n",
    "            left_top_y = c_y - h / 2\n",
    "\n",
    "            rect = patches.Rectangle(\n",
    "                (left_top_x, left_top_y), w, h, linewidth=1, edgecolor=\"r\", facecolor=\"none\"\n",
    "            )\n",
    "            ax.add_patch(rect)\n",
    "\n",
    "# 정답 시각화\n",
    "with open(sample[\"label_path\"], \"r\") as f:\n",
    "    for line in f.readlines():\n",
    "        class_id, c_x, c_y, w, h = map(float, line.split())\n",
    "        c_x *= img.width\n",
    "        c_y *= img.height\n",
    "        w *= img.width\n",
    "        h *= img.height\n",
    "\n",
    "        left_top_x = c_x - w / 2\n",
    "        left_top_y = c_y - h / 2\n",
    "\n",
    "        rect = patches.Rectangle((left_top_x, left_top_y), w, h, linewidth=1, edgecolor=\"w\", facecolor=\"none\")\n",
    "        ax.add_patch(rect)\n",
    "fig.set_figheight(10)\n",
    "fig.show()"
   ]
  },
  {
   "cell_type": "markdown",
   "metadata": {},
   "source": [
    "## 제출 파일 생성"
   ]
  },
  {
   "cell_type": "markdown",
   "metadata": {},
   "source": [
    "### 테스트 데이터 예측"
   ]
  },
  {
   "cell_type": "code",
   "execution_count": null,
   "metadata": {},
   "outputs": [],
   "source": [
    "!rm -rf {RESULT_PATH}/test/exp"
   ]
  },
  {
   "cell_type": "code",
   "execution_count": null,
   "metadata": {},
   "outputs": [],
   "source": [
    "!python yolov5/detect.py --source {os.path.join(DATASET_ROOT, TEST_DIR, IMAGE_DIR)} --weights {RESULT_PATH}/pothole/weights/best.pt --conf 0.1 --save-txt --save-conf --exist-ok --project {RESULT_PATH}/test"
   ]
  },
  {
   "cell_type": "markdown",
   "metadata": {},
   "source": [
    "### 바운드 박스 읽어오기"
   ]
  },
  {
   "cell_type": "code",
   "execution_count": null,
   "metadata": {},
   "outputs": [],
   "source": [
    "for i, row in tqdm(df_test.iterrows(), total=len(df_test)):\n",
    "    label_path = os.path.join(RESULT_PATH, \"test\", \"exp\", \"labels\", row[\"id\"] + \".txt\")\n",
    "\n",
    "    labels = []\n",
    "    if os.path.exists(label_path):\n",
    "        with open(label_path, \"r\") as f:\n",
    "            lines = f.readlines()\n",
    "\n",
    "        for line in lines:\n",
    "            class_id, c_x, c_y, w, h, conf = map(float, line.split())\n",
    "            labels.append({\"class_id\": int(class_id), \"conf\": float(conf), \"x\": c_x, \"y\": c_y, \"w\": w, \"h\": h})\n",
    "\n",
    "    df_test.at[i, \"labels\"] = labels\n",
    "df_test"
   ]
  },
  {
   "cell_type": "markdown",
   "metadata": {},
   "source": [
    "### 생성되는 CSV 파일의 형식"
   ]
  },
  {
   "cell_type": "markdown",
   "metadata": {},
   "source": [
    "CSV 파일은 각 이미지에 대한 정보를 포함하며, 다음과 같은 열(column)로 구성됩니다: \n",
    "\n",
    "| id        | labels                             | \n",
    "|-----------|------------------------------------| \n",
    "| image_id  | [{\"class_id\": ..., \"conf\": ..., \"x\": ..., \"y\": ..., \"w\": ..., \"h\": ...}, ...] | \n",
    "\n",
    "각 행(row)은 다음과 같은 내용을 포함합니다: \n",
    "- id: 이미지의 고유 식별자 (image_id) \n",
    "- labels: 해당 이미지에 대한 라벨 정보를 포함하는 리스트 \n",
    "  - 각 라벨은 다음과 같은 정보를 포함합니다: \n",
    "    - class_id: 객체의 클래스 ID (정수형)\n",
    "    - x: 객체의 정규화된 x 좌표 (0 이상 1 이하)\n",
    "    - y: 객체의 정규화된 y 좌표 (0 이상 1 이하)\n",
    "    - w: 객체의 정규화된 너비 (0 이상 1 이하)\n",
    "    - h: 객체의 정규화된 높이  (0 이상 1 이하)\n",
    "    - conf: 객체 탐지 결과의 신뢰도 (0 이상 1 이하)\n",
    "\n",
    "conf 값은 생략할 수 있으며, 생략할 경우 채점 프로그램은 해당 라벨의 conf 값을 1.0 으로 간주합니다.\n",
    "\n",
    "또한, 채점 프로그램은 각 라벨이 정규화된 XYWH 포맷으로 작성되었다고 간주합니다.\n",
    "\n",
    "예시: \n",
    "| id         | labels                                                       | \n",
    "|------------|--------------------------------------------------------------| \n",
    "| image_001  | [{\"class_id\": 1, \"conf\": 0.3, \"x\": 0.5, \"y\": 0.5, \"w\": 0.2, \"h\": 0.3}] | \n",
    "| image_002  | [{\"class_id\": 0, \"conf\": 0.8, \"x\": 0.3, \"y\": 0.4, \"w\": 0.1, \"h\": 0.2}, {\"class_id\": 1, \"conf\": 1, \"x\": 0.7, \"y\": 0.8, \"w\": 0.15, \"h\": 0.25}] | \n",
    "\n",
    "주의: x, y, w, h는 각각 이미지의 너비와 높이에 대한 비율로 표현되며, \n",
    "      x와 y는 객체의 중심 좌표를 기준으로 하고, w와 h는 객체의 크기를 나타냅니다."
   ]
  },
  {
   "cell_type": "markdown",
   "metadata": {},
   "source": [
    "### 제출 파일 생성"
   ]
  },
  {
   "cell_type": "code",
   "execution_count": null,
   "metadata": {},
   "outputs": [],
   "source": [
    "submission = []\n",
    "\n",
    "for i, row in tqdm(df_test.iterrows(), total=len(df_test)):\n",
    "    image_id = row[\"id\"]\n",
    "    labels = []\n",
    "    for label in row[\"labels\"]:\n",
    "        class_id = label[\"class_id\"]\n",
    "        x = label[\"x\"]\n",
    "        y = label[\"y\"]\n",
    "        w = label[\"w\"]\n",
    "        h = label[\"h\"]\n",
    "        conf = label[\"conf\"]\n",
    "\n",
    "        labels.append({\"class_id\": class_id, \"conf\": conf, \"x\": x, \"y\": y, \"w\": w, \"h\": h})\n",
    "    submission.append({\"id\": image_id, \"labels\": labels})\n",
    "\n",
    "df_submission = pd.DataFrame(submission)\n",
    "df_submission.to_csv(\"submission.csv\", index=False)"
   ]
  },
  {
   "cell_type": "markdown",
   "metadata": {},
   "source": [
    "### 제출 파일 확인"
   ]
  },
  {
   "cell_type": "markdown",
   "metadata": {},
   "source": [
    "제출한 파일이 올바른 형식인지 확인합니다."
   ]
  },
  {
   "cell_type": "code",
   "execution_count": null,
   "metadata": {},
   "outputs": [],
   "source": [
    "df_submission = pd.read_csv(\"submission.csv\")\n",
    "\n",
    "sample = df_submission.iloc[9]\n",
    "sample_labels = eval(sample[\"labels\"])\n",
    "\n",
    "if len(sample_labels) == 0:\n",
    "    print(\"예측결과: 해당 도로 이미지에선 발견된 균열 및 구멍이 없습니다.\")\n",
    "else:\n",
    "    fig, ax = plt.subplots()\n",
    "    img = Image.open(os.path.join(DATASET_ROOT, TEST_DIR, IMAGE_DIR, sample[\"id\"] + \".jpg\"))\n",
    "    ax.imshow(img)\n",
    "\n",
    "    # 예측 결과 시각화\n",
    "    for label in sample_labels:\n",
    "        class_id = label[\"class_id\"]\n",
    "        cx = label[\"x\"] * img.width\n",
    "        cy = label[\"y\"] * img.height\n",
    "        w = label[\"w\"] * img.width\n",
    "        h = label[\"h\"] * img.height\n",
    "\n",
    "        left_top_x = cx - (w / 2)\n",
    "        left_top_y = cy - h / 2\n",
    "\n",
    "        rect = patches.Rectangle((left_top_x, left_top_y), w, h, linewidth=1, edgecolor=\"r\", facecolor=\"none\")\n",
    "        ax.add_patch(rect)"
   ]
  },
  {
   "cell_type": "markdown",
   "metadata": {},
   "source": [
    "## 제출\n",
    "\n",
    "1. 규정에 따라 `code.ipynb`, `requirements.txt` 파일을 포함하여 모델의 성능 재현에 필요한 모든 파일을 압축한 `code.zip` 파일을 제출 환경에 업로드 합니다.\n",
    "   1. 리눅스 환경에서는 다음 명령어를 활용하여 압축 파일을 생성할 수 있습니다: `zip code.zip code.ipynb requirements.txt`\n",
    "   2. 다른 파이썬 파일을 사용한 경우 위 명령어 뒤에 파일명을 추가하면 됩니다.\n",
    "   3. 특정 폴더를 압축해야 하는 경우 `zip -r code.zip code.ipynb requirements.txt 원하는/폴더/경로` 와 같은 명령어를 활용할 수 있습니다.\n",
    "2. 그 후, `submission.csv` 파일을 업로드 합니다.\n",
    "3. 두 파일이 업로드 된 것을 확인한 후, 오른쪽 위의 '제출' 버튼을 클릭하여 제출합니다."
   ]
  },
  {
   "cell_type": "markdown",
   "metadata": {},
   "source": [
    "## 제출 주의사항\n",
    "1. `code.zip` 파일과 `submission.csv` 파일을 시스템이 압축한 파일의 용량이 50MB를 넘으면 안됩니다.\n",
    "2. `code.zip` 파일 안에 `code.ipynb` 파일과 `requirements.txt` 파일이 있어야 합니다. \n",
    "\n",
    "아래 코드를 실행하면 제출 주의사항을 모두 만족했는지 확인하실 수 있습니다."
   ]
  },
  {
   "cell_type": "code",
   "execution_count": null,
   "metadata": {},
   "outputs": [],
   "source": [
    "import os\n",
    "import zipfile\n",
    "\n",
    "is_ready = True\n",
    "\n",
    "# code.zip 파일이 생성되었는지 확인합니다.\n",
    "if os.path.exists(\"code.zip\"):\n",
    "    result_zip = zipfile.ZipFile('code.zip')\n",
    "    # 파일 목록을 확인합니다.\n",
    "    submission_filelist = result_zip.namelist()\n",
    "    if (\n",
    "        \"code.ipynb\" not in submission_filelist\n",
    "        or \"requirements.txt\" not in submission_filelist\n",
    "    ):\n",
    "        is_ready = False\n",
    "        print(\"압축 파일에 필요한 파일이 모두 있는지 확인해주세요.\")\n",
    "else:\n",
    "    is_ready = False\n",
    "    print(\"code.zip 파일이 생성되었는지 확인해주세요.\")\n",
    "\n",
    "# submission.csv 파일이 생성되었는지 확인합니다.\n",
    "if not os.path.exists(\"submission.csv\"):\n",
    "    is_ready = False\n",
    "    print(\"submission.csv 파일이 생성되었는지 확인해주세요.\")\n",
    "\n",
    "if is_ready:\n",
    "    # 파일의 용량을 확인합니다. \n",
    "    # 시스템 상 두 제출 파일을 압축한 후 50MB를 넘지 않으면 제출할 수 있으므로, 용량의 합이 50MB보다 약간 클 경우 제출이 가능할 수 있습니다.\n",
    "    if os.path.getsize(\"code.zip\") + os.path.getsize(\"submission.csv\") > 50e6:\n",
    "        print(\"제출 파일의 용량이 50MB를 초과하고 있습니다. 제출 전 용량을 줄여주세요.\")\n",
    "    else:\n",
    "        print(\"제출할 준비가 되었습니다.\")\n",
    "else:\n",
    "    print(\"제출 주의사항을 모두 만족하는지 확인해주세요.\")"
   ]
  }
 ],
 "metadata": {
  "kernelspec": {
   "display_name": "Python 3 (ipykernel)",
   "language": "python",
   "name": "python3"
  },
  "language_info": {
   "codemirror_mode": {
    "name": "ipython",
    "version": 3
   },
   "file_extension": ".py",
   "mimetype": "text/x-python",
   "name": "python",
   "nbconvert_exporter": "python",
   "pygments_lexer": "ipython3",
   "version": "3.10.14"
  }
 },
 "nbformat": 4,
 "nbformat_minor": 2
}

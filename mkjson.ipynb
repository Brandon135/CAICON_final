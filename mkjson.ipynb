{
 "cells": [
  {
   "cell_type": "code",
   "execution_count": 9,
   "metadata": {},
   "outputs": [
    {
     "name": "stdout",
     "output_type": "stream",
     "text": [
      "Found 30338 files\n"
     ]
    },
    {
     "data": {
      "application/vnd.jupyter.widget-view+json": {
       "model_id": "98b9f2459882452896b1a3f0d05eac67",
       "version_major": 2,
       "version_minor": 0
      },
      "text/plain": [
       "  0%|          | 0/30338 [00:00<?, ?it/s]"
      ]
     },
     "metadata": {},
     "output_type": "display_data"
    }
   ],
   "source": [
    "import os\n",
    "import glob\n",
    "import json\n",
    "import random\n",
    "\n",
    "import cv2\n",
    "import matplotlib.pyplot as plt\n",
    "\n",
    "from tqdm.auto import tqdm\n",
    "\n",
    "files = glob.glob(\"data/train/images/*.jpg\")\n",
    "print(f\"Found {len(files)} files\")\n",
    "\n",
    "labelid = 0\n",
    "dataset = []\n",
    "for file in tqdm(files):\n",
    "    label_file = file.replace(\"images\", \"labels\").replace(\".jpg\", \".txt\")\n",
    "\n",
    "    image = cv2.imread(file)\n",
    "    height, width, label_id = image.shape\n",
    "\n",
    "    with open(label_file, \"r\", encoding=\"utf-8\") as f:\n",
    "        lines = f.readlines()\n",
    "\n",
    "    objects = {\n",
    "        \"id\": [],\n",
    "        \"area\": [],\n",
    "        \"bbox\": [],\n",
    "        \"category\": [],\n",
    "    }\n",
    "    for line in lines:\n",
    "        parts = line.strip().split()\n",
    "        if len(parts) != 5:\n",
    "            continue\n",
    "        class_id, x_center, y_center, bbox_width, bbox_height = map(float, parts)\n",
    "        class_id = int(class_id)\n",
    "\n",
    "        x_center = int(x_center* width)\n",
    "        y_center = int(y_center * height)\n",
    "        bbox_width = int(bbox_width * width)\n",
    "        bbox_height = int(bbox_height * height)\n",
    "\n",
    "        x_min = x_center - bbox_width // 2\n",
    "        y_min = y_center - bbox_height // 2\n",
    "\n",
    "        area = bbox_width * bbox_height\n",
    "        bbox = [x_min, y_min, bbox_width, bbox_height]\n",
    "\n",
    "        objects[\"area\"].append(area)\n",
    "        objects[\"bbox\"].append(bbox)\n",
    "        objects[\"category\"].append(class_id)\n",
    "\n",
    "        objects[\"id\"].append(label_id)\n",
    "        label_id += 1\n",
    "\n",
    "\n",
    "    dataset.append({\n",
    "        \"image_id\": os.path.basename(file).split(\".\")[0],\n",
    "        \"image\": file.replace(\"\\\\\", \"/\"),\n",
    "        \"width\": width,\n",
    "        \"height\": height,\n",
    "        \"objects\": objects,\n",
    "    })\n",
    "\n",
    "\n",
    "with open(\"data/train.json\", \"w\", encoding=\"utf-8\") as f:\n",
    "    json.dump(dataset, f, indent=4, ensure_ascii=False)"
   ]
  }
 ],
 "metadata": {
  "kernelspec": {
   "display_name": "base",
   "language": "python",
   "name": "python3"
  },
  "language_info": {
   "codemirror_mode": {
    "name": "ipython",
    "version": 3
   },
   "file_extension": ".py",
   "mimetype": "text/x-python",
   "name": "python",
   "nbconvert_exporter": "python",
   "pygments_lexer": "ipython3",
   "version": "3.12.4"
  }
 },
 "nbformat": 4,
 "nbformat_minor": 2
}
